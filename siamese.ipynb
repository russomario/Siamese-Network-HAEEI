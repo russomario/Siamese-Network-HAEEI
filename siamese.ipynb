{
 "cells": [
  {
   "cell_type": "markdown",
   "id": "5c3de839",
   "metadata": {},
   "source": [
    "## Dataset Used  \n",
    "[LFW (Labelled Faces in the Wild)](https://www.kaggle.com/learn)"
   ]
  },
  {
   "cell_type": "code",
   "execution_count": 5,
   "id": "1ea23db4",
   "metadata": {},
   "outputs": [],
   "source": [
    "from pathlib import Path\n",
    "dataset_path = Path(\"./lfw\")\n",
    "\n",
    "matchpairs_train_csv = dataset_path / \"matchpairsDevTrain.csv\"\n",
    "assert matchpairs_train_csv.exists(), f\"Expected {matchpairs_train_csv} to exist.\"\n",
    "\n",
    "\n",
    "mismatches_train_csv = dataset_path / \"mismatchpairsDevTrain.csv\"\n",
    "assert mismatches_train_csv.exists(), f\"Expected {mismatches_train_csv} to exist.\"\n",
    "\n",
    "matchpairs_test_csv = dataset_path / \"matchpairsDevTest.csv\"\n",
    "assert matchpairs_test_csv.exists(), f\"Expected {matchpairs_test_csv} to exist.\"\n",
    "\n",
    "mismatches_test_csv = dataset_path / \"mismatchpairsDevTest.csv\"\n",
    "assert mismatches_test_csv.exists(), f\"Expected {mismatches_test_csv} to exist.\""
   ]
  }
 ],
 "metadata": {
  "kernelspec": {
   "display_name": "heeai",
   "language": "python",
   "name": "python3"
  },
  "language_info": {
   "codemirror_mode": {
    "name": "ipython",
    "version": 3
   },
   "file_extension": ".py",
   "mimetype": "text/x-python",
   "name": "python",
   "nbconvert_exporter": "python",
   "pygments_lexer": "ipython3",
   "version": "3.13.5"
  }
 },
 "nbformat": 4,
 "nbformat_minor": 5
}

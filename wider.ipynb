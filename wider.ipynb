{
 "cells": [
  {
   "cell_type": "markdown",
   "id": "50dc8ac9",
   "metadata": {},
   "source": [
    "### Convert WiderFace dataset into a COCO JSON format\n",
    "\n",
    "There exist other converter but they are not compatible with how Edge Impulse expects the data to be formatted. Therefore, we need to implement our own conversion script."
   ]
  },
  {
   "cell_type": "markdown",
   "id": "30507374",
   "metadata": {},
   "source": [
    "The dataset was downloaded from [Kaggle](https://www.kaggle.com/datasets/iamprateek/wider-face-a-face-detection-dataset).  \n",
    "The folders were moved in order to have the same structure in the following cell."
   ]
  },
  {
   "cell_type": "markdown",
   "id": "5870b39a",
   "metadata": {},
   "source": [
    "Directory structure of the WiderFace dataset:\n",
    "\n",
    "```bash\n",
    ".\n",
    "├── wider_face_split\n",
    "│   ├── readme.txt\n",
    "│   ├── wider_face_test_filelist.txt\n",
    "│   ├── wider_face_test.mat\n",
    "│   ├── wider_face_train_bbx_gt.txt\n",
    "│   ├── wider_face_train.mat\n",
    "│   ├── wider_face_val_bbx_gt.txt\n",
    "│   └── wider_face_val.mat\n",
    "├── WIDER_test\n",
    "│   └── images\n",
    "├── WIDER_train\n",
    "│   └── images\n",
    "└── WIDER_val\n",
    "    └── images\n",
    "```"
   ]
  },
  {
   "cell_type": "code",
   "execution_count": 1,
   "id": "a71f9fb1",
   "metadata": {},
   "outputs": [],
   "source": [
    "ANNOTATIONS_FILE = \"./archive/wider_face_split/wider_face_train_bbx_gt.txt\"\n",
    "IMAGES_DIR = \"./archive/WIDER_train/images/\"\n",
    "\n",
    "OUTPUT_DIR = \"./archive/output_coco\"\n",
    "OUTPUT_ANNOTATIONS_FILE = \"./archive/output_coco/annotations.json\""
   ]
  },
  {
   "cell_type": "code",
   "execution_count": 2,
   "id": "bd87f68a",
   "metadata": {},
   "outputs": [],
   "source": [
    "import os\n",
    "\n",
    "if not os.path.exists(ANNOTATIONS_FILE):\n",
    "    raise FileNotFoundError(f\"Annotations file not found: {ANNOTATIONS_FILE}\")\n",
    "\n",
    "if not os.path.exists(IMAGES_DIR):\n",
    "    raise FileNotFoundError(f\"Images directory not found: {IMAGES_DIR}\")\n",
    "\n",
    "if not os.path.exists(OUTPUT_DIR):\n",
    "    os.makedirs(OUTPUT_DIR)\n"
   ]
  },
  {
   "cell_type": "code",
   "execution_count": 3,
   "id": "51f1c580",
   "metadata": {},
   "outputs": [],
   "source": [
    "SUBSETS = [\"7--Cheering\"]"
   ]
  },
  {
   "cell_type": "code",
   "execution_count": 4,
   "id": "13be9dfb",
   "metadata": {},
   "outputs": [],
   "source": [
    "IMAGE_EXTS = (\"jpg\", \"jpeg\", \".png\")\n",
    "\n",
    "\n",
    "def line_is_image_path(line: str) -> bool:\n",
    "    return any([line.strip().lower().endswith(ext) for ext in IMAGE_EXTS])\n",
    "\n",
    "def get_image_name(image_path: str) -> str:\n",
    "    return image_path.split(\"/\")[-1]\n",
    "\n",
    "def image_belongs_to_subsets(image_path: str) -> bool:\n",
    "    return any([image_path.startswith(subset) for subset in SUBSETS])"
   ]
  },
  {
   "cell_type": "code",
   "execution_count": 5,
   "id": "3a25e01b",
   "metadata": {},
   "outputs": [],
   "source": [
    "from PIL import Image\n",
    "from shutil import copy\n",
    "\n",
    "def get_image_size(image_path: str) -> tuple:\n",
    "    with Image.open(image_path) as img:\n",
    "        return img.size\n",
    "\n",
    "def copy_image(source_path: str) -> None:\n",
    "    output_path = OUTPUT_DIR + \"/\" + get_image_name(source_path)\n",
    "    copy(source_path, output_path)\n"
   ]
  },
  {
   "cell_type": "code",
   "execution_count": 6,
   "id": "4196edda",
   "metadata": {},
   "outputs": [],
   "source": [
    "annotations = {\n",
    "    \"categories\": [\n",
    "        {\n",
    "            \"id\": 1,\n",
    "            \"name\": \"face\",\n",
    "        }\n",
    "    ],\n",
    "    \"annotations\": [],\n",
    "    \"images\": [],\n",
    "}\n",
    "\n",
    "image_id = 0\n",
    "last_image = None\n",
    "with open(ANNOTATIONS_FILE) as f:\n",
    "    for line in f:\n",
    "        line = line.strip()\n",
    "        if line_is_image_path(line):\n",
    "            if not image_belongs_to_subsets(line):\n",
    "                last_image = None\n",
    "                continue\n",
    "            last_image = get_image_name(line)\n",
    "            image_id += 1\n",
    "            width, height = get_image_size(os.path.join(IMAGES_DIR, line))\n",
    "            annotations[\"images\"].append(\n",
    "                {\n",
    "                    \"id\": image_id,\n",
    "                    \"file_name\": last_image,\n",
    "                    \"width\": width,\n",
    "                    \"height\": height,\n",
    "                }\n",
    "            )\n",
    "            # Skip one line for the number of images\n",
    "            f.readline()\n",
    "            # Copy image to output directory\n",
    "            copy_image(os.path.join(IMAGES_DIR, line))\n",
    "        elif last_image is not None:\n",
    "            try:\n",
    "                (\n",
    "                    x1,\n",
    "                    y1,\n",
    "                    w,\n",
    "                    h,\n",
    "                    blur,\n",
    "                    expression,\n",
    "                    illumination,\n",
    "                    invalid,\n",
    "                    occlusion,\n",
    "                    pose,\n",
    "                ) = line.split(\" \")\n",
    "                area = int(w) * int(h)\n",
    "                annotations[\"annotations\"].append(\n",
    "                    {\n",
    "                        \"id\": len(annotations[\"annotations\"]) + 1,\n",
    "                        \"image_id\": image_id,\n",
    "                        \"category_id\": 1,\n",
    "                        \"bbox\": [int(x1), int(y1), int(w), int(h)],\n",
    "                        \"area\": area,\n",
    "                        \"iscrowd\": 0,\n",
    "                    }\n",
    "                )\n",
    "            except ValueError as e:\n",
    "                print(f\"{line=} {e}\")"
   ]
  },
  {
   "cell_type": "code",
   "execution_count": 7,
   "id": "4196edda",
   "metadata": {},
   "outputs": [],
   "source": [
    "import json\n",
    "\n",
    "with open(OUTPUT_ANNOTATIONS_FILE, \"w\") as f:\n",
    "    json.dump(annotations, f, indent=4)"
   ]
  }
 ],
 "metadata": {
  "kernelspec": {
   "display_name": "heeai",
   "language": "python",
   "name": "python3"
  },
  "language_info": {
   "codemirror_mode": {
    "name": "ipython",
    "version": 3
   },
   "file_extension": ".py",
   "mimetype": "text/x-python",
   "name": "python",
   "nbconvert_exporter": "python",
   "pygments_lexer": "ipython3",
   "version": "3.13.5"
  }
 },
 "nbformat": 4,
 "nbformat_minor": 5
}
